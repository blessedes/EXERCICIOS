{
  "nbformat": 4,
  "nbformat_minor": 0,
  "metadata": {
    "colab": {
      "provenance": [],
      "authorship_tag": "ABX9TyPqVvGihAdSo0Joe9HhUAkc",
      "include_colab_link": true
    },
    "kernelspec": {
      "name": "python3",
      "display_name": "Python 3"
    },
    "language_info": {
      "name": "python"
    }
  },
  "cells": [
    {
      "cell_type": "markdown",
      "metadata": {
        "id": "view-in-github",
        "colab_type": "text"
      },
      "source": [
        "<a href=\"https://colab.research.google.com/github/mybala/EXERCICIOS/blob/main/AULA1_PROJETO_desvio_condicional.ipynb\" target=\"_parent\"><img src=\"https://colab.research.google.com/assets/colab-badge.svg\" alt=\"Open In Colab\"/></a>"
      ]
    },
    {
      "cell_type": "markdown",
      "source": [],
      "metadata": {
        "id": "DAJaN6ocn_mK"
      }
    },
    {
      "cell_type": "code",
      "source": [
        "print('Bem vindo ao sistema \"fuctura!\"')"
      ],
      "metadata": {
        "colab": {
          "base_uri": "https://localhost:8080/"
        },
        "id": "MyOur9YfoCbn",
        "outputId": "acff2e24-5941-4faa-ae98-6b55903cff5e"
      },
      "execution_count": null,
      "outputs": [
        {
          "output_type": "stream",
          "name": "stdout",
          "text": [
            "Bem vindo ao sistema \"fuctura!\"\n"
          ]
        }
      ]
    },
    {
      "cell_type": "markdown",
      "source": [
        "Variável é um mecanismo de armazenamento de informações e só pode armazenar uma informação por vez:"
      ],
      "metadata": {
        "id": "QUFVFrS8q7Se"
      }
    },
    {
      "cell_type": "code",
      "source": [
        "x = 1\n",
        "\n",
        "y = 1\n",
        "\n",
        "print(x + y)"
      ],
      "metadata": {
        "colab": {
          "base_uri": "https://localhost:8080/"
        },
        "id": "h02xZd8trORK",
        "outputId": "4ac4c143-5cca-4d7a-9881-ef21db2d435d"
      },
      "execution_count": null,
      "outputs": [
        {
          "output_type": "stream",
          "name": "stdout",
          "text": [
            "2\n"
          ]
        }
      ]
    },
    {
      "cell_type": "markdown",
      "source": [
        "A FUNÇÃO \"INPUT\" É UMA FUNÇÃO PARA PEGAR INFORMAÇÕES DO USUÁRIO:"
      ],
      "metadata": {
        "id": "1n_rFcSTtdXz"
      }
    },
    {
      "cell_type": "code",
      "source": [
        "X = input('Digite um valor aqui: ')\n",
        "\n",
        "y = input('Digite outro valor aqui: ')\n",
        "\n",
        "print('O valor que você digitou foi:',X, 'e',y)"
      ],
      "metadata": {
        "colab": {
          "base_uri": "https://localhost:8080/"
        },
        "id": "I6rEN9Wrtdu5",
        "outputId": "7e19df4b-4329-4d97-deda-2ced7107837f"
      },
      "execution_count": null,
      "outputs": [
        {
          "output_type": "stream",
          "name": "stdout",
          "text": [
            "Digite um valor aqui: 10\n",
            "Digite outro valor aqui: 20\n",
            "O valor que você digitou foi: 10 e 20\n"
          ]
        }
      ]
    },
    {
      "cell_type": "markdown",
      "source": [
        "LEMBRANDO QUE SE A GENTE QUISER DETERMINAR QUAL O TIPO DA INFORMÇÃO TEMOS QUE DECLARAR ELA QUANDO ESTÁ SOLICITANDO AO USUÁRIO OU NO PROCESSAMENTO:"
      ],
      "metadata": {
        "id": "Pw2e_QDtvXTx"
      }
    },
    {
      "cell_type": "code",
      "source": [
        "X = int(input('Digite um valor aqui: '))\n",
        "\n",
        "y = float(input('Digite outro valor aqui: '))\n",
        "\n",
        "print('O valor que você digitou foi: ',X, type(X), 'e', y, type(y) )"
      ],
      "metadata": {
        "colab": {
          "base_uri": "https://localhost:8080/"
        },
        "id": "BSNJ9KLOvpQg",
        "outputId": "ee565ae9-f266-4115-d74c-93ad55b46fff"
      },
      "execution_count": null,
      "outputs": [
        {
          "output_type": "stream",
          "name": "stdout",
          "text": [
            "Digite um valor aqui: 10\n",
            "Digite outro valor aqui: 20\n",
            "O valor que você digitou foi:  10 <class 'int'> e 20.0 <class 'float'>\n"
          ]
        }
      ]
    },
    {
      "cell_type": "markdown",
      "source": [
        "PODEMOS TAMBÉM SEMPRE COMENTAR OS CÓDIGOS:"
      ],
      "metadata": {
        "id": "LPmnNA2sx-8W"
      }
    },
    {
      "cell_type": "code",
      "source": [
        "# ISSO AQUI É UM COMENTÁRIO\n",
        "\n",
        "'''\n",
        "isso aqui é comentário\n",
        "\n",
        "'''\n",
        "print(\"Aqui vai funcionar de boa!!\")\n",
        "\n",
        "#Comentário vom (#) serve para comentar apenas uma linha\n",
        "\n",
        "''' comentário com 3 aspas serve para comentar mais de uma linha '''"
      ],
      "metadata": {
        "colab": {
          "base_uri": "https://localhost:8080/",
          "height": 53
        },
        "id": "QSaCtxC_x_M6",
        "outputId": "fdcaa3c5-8b15-4549-b87f-0e8fda850a7a"
      },
      "execution_count": null,
      "outputs": [
        {
          "output_type": "stream",
          "name": "stdout",
          "text": [
            "Aqui vai funcionar de boa!!\n"
          ]
        },
        {
          "output_type": "execute_result",
          "data": {
            "text/plain": [
              "' comentário com 3 aspas serve para comentar mais de uma linha '"
            ],
            "application/vnd.google.colaboratory.intrinsic+json": {
              "type": "string"
            }
          },
          "metadata": {},
          "execution_count": 20
        }
      ]
    },
    {
      "cell_type": "markdown",
      "source": [
        "ABSTRAIR O PROBLEMA É IMPORTANTE PARA PODER ENTENDER O PASSO A PASSO DO QUE SE DEVE FAZER PARA CRIAR UMA SOLUÇÃO!!"
      ],
      "metadata": {
        "id": "P-uoX_pDzWau"
      }
    },
    {
      "cell_type": "code",
      "source": [
        "entrada = 'Dados necessários para alimentar um programa'\n",
        "processamento = 'Cálculo ou lógica utilizando a entrada'\n",
        "saida = 'resultado das operações feitas'\n",
        "\n",
        "print('entrada: ',entrada)\n",
        "print('processamento:',processamento)\n",
        "print('saida:',saida)"
      ],
      "metadata": {
        "id": "SaED7c4WzWnO"
      },
      "execution_count": null,
      "outputs": []
    },
    {
      "cell_type": "markdown",
      "source": [
        "AGORA VAMOS CRIAR NOSSA PRIMEIRA SOLUÇÃO!!!\n",
        "\n",
        "Iremos criar um sistema que calcule o salário bruto de uma pessoa com base nas informações inofrmadas pelo usuário:"
      ],
      "metadata": {
        "id": "S4mkI0Zaz_YB"
      }
    },
    {
      "cell_type": "code",
      "source": [
        "# Entrada de dados\n",
        "\n",
        "salarioBase = float(input('Digite aqui seu salário base: '))\n",
        "gratificacao = float(input('Digite aqui sua gratificação' ))\n",
        "\n",
        "# Processamento \n",
        "\n",
        "salarioBruto = salarioBase + gratificacao\n",
        "\n",
        "#Saida \n",
        "\n",
        "print('O seu salário bruto é: R$',salarioBruto)"
      ],
      "metadata": {
        "id": "0agN1g_Dz_pH"
      },
      "execution_count": null,
      "outputs": []
    },
    {
      "cell_type": "markdown",
      "source": [
        "OPERAÇÕES RELACIONAIS: "
      ],
      "metadata": {
        "id": "58stDy5U38OA"
      }
    },
    {
      "cell_type": "code",
      "source": [
        "valor1 = 10\n",
        "\n",
        "valor2 = 20\n",
        "\n",
        "#condição comparativa\n",
        "print(valor1 == valor2)\n",
        "print(valor1 != valor2)\n",
        "print(valor1 >  valor2)\n",
        "print(valor1 <  valor2)\n",
        "print(valor1 >= valor2)\n",
        "print(valor1 <= valor2)"
      ],
      "metadata": {
        "id": "5V8QoowR38pF"
      },
      "execution_count": null,
      "outputs": []
    },
    {
      "cell_type": "markdown",
      "source": [
        "PROJETO 1: CRIAR UM SISTEMA QUE VALIDE UM CUMPO:"
      ],
      "metadata": {
        "id": "f1uQgFME7teA"
      }
    },
    {
      "cell_type": "code",
      "source": [
        "#Entrada:\n",
        "\n",
        "cupom = str(input('Digite aqui o seu cupom: '))\n",
        "\n",
        "#Processamento: \n",
        "\n",
        "#SE\n",
        "if(cupom == \"FUCTURA1\" or cupom == \"FUCTURA2\"):\n",
        "  # Saída:\n",
        "  print(\"Você ganhou 15% de desconto\")\n",
        "\n",
        "#SENÃO\n",
        "else:\n",
        "    # Saída\n",
        "    print(\"esse cupom não é válido!\")"
      ],
      "metadata": {
        "colab": {
          "base_uri": "https://localhost:8080/"
        },
        "id": "NnB3hwQp7try",
        "outputId": "40aeea33-5945-4a76-b480-d84a686ab78c"
      },
      "execution_count": null,
      "outputs": [
        {
          "output_type": "stream",
          "name": "stdout",
          "text": [
            "Digite aqui o seu cupom: FUCTURA3\n",
            "esse cupom não é válido!\n"
          ]
        }
      ]
    },
    {
      "cell_type": "markdown",
      "source": [
        "PROJETO 3: CRIAR UM SISTEMA QUE VALIDE UM CUPOM DE 15% E DE 10% E SE O CUPOM NÃO FOR VALIDO INFORMAR AO USUARIO:"
      ],
      "metadata": {
        "id": "Q0c_p7Xi1kP0"
      }
    },
    {
      "cell_type": "code",
      "source": [
        "cupom = str(input('Digite aqui o seu cupom: '))\n",
        "\n",
        "#processamento:\n",
        "  \n",
        "if (cupom == \"FUCTURA1\"):\n",
        "  print(\"você ganhou 15% de desconto!\") \n",
        "elif (cupom == \"FUCTURA2\"):\n",
        "  print(\"você ganhou 10% de desconto!\")\n",
        "else:\n",
        "  print(\"Esse cupom não é válido!\")       "
      ],
      "metadata": {
        "id": "G-zotOad_F4x",
        "colab": {
          "base_uri": "https://localhost:8080/"
        },
        "outputId": "32681eca-be1c-425d-c3ce-c3d8d4925ccb"
      },
      "execution_count": null,
      "outputs": [
        {
          "output_type": "stream",
          "name": "stdout",
          "text": [
            "Digite aqui o seu cupom: FUCTURA4\n",
            "Esse cupom não é válido!\n"
          ]
        }
      ]
    },
    {
      "cell_type": "markdown",
      "source": [
        "PROJETO 4: CRIAR UM SISTEMA DE EMPRESTIMO QUE 'SE' O VALOR DO EMPRESTIMO FOR MENOR OU IGUAL A 50% DO SEU SALARIO, ENTÃO O EMPRESTIMO SERÁ APROVADO, 'SENÃO', 'SE' O VALOR DO EMPRESTIMO FOR MENOR OU IGUAL A 75% DO SALARIO A SITUAÇÃO FICARÁ EM ANÁLISE, 'SENÃO', INFORME AO CLIENTE QUE O EMPRESTIMO NÃO FOI APROVADO.\n",
        "\n",
        "AÇÕES:\n",
        "1- APROVAR O EMPRESTIMO 2- SITUAÇÃO EM ANÁLISE 3- NÃO APROVAR O EMPRESTIMO"
      ],
      "metadata": {
        "id": "-V91bpj5_pbI"
      }
    },
    {
      "cell_type": "code",
      "source": [
        "#ENTRADA:\n",
        "salario = float(input('Digite aqui o seu salário: '))\n",
        "emprestimo = float(input('Digite o valor do seu emprestimo: '))\n",
        "\n",
        "#Processamento:\n",
        "\n",
        "if (emprestimo <= salario * 0.5):\n",
        "  print(\"O emprestimo foi aprovado!\")\n",
        "\n",
        "elif (emprestimo <= salario * 0.75): \n",
        "  print('O emprestimo está em analise!')\n",
        "else:\n",
        "  print('O emprestimo não está aprovado.')  \n"
      ],
      "metadata": {
        "colab": {
          "base_uri": "https://localhost:8080/"
        },
        "id": "_9hZx4qG_ptk",
        "outputId": "39d6ee59-9668-413c-fa06-c2a4f821c399"
      },
      "execution_count": null,
      "outputs": [
        {
          "output_type": "stream",
          "name": "stdout",
          "text": [
            "Digite aqui o seu salário: 3\n",
            "Digite o valor do seu emprestimo: 1\n",
            "O emprestimo foi aprovado!\n"
          ]
        }
      ]
    },
    {
      "cell_type": "markdown",
      "source": [
        "PROJETO 5 - CRIAR UM RPG!"
      ],
      "metadata": {
        "id": "gBQVA9_d2TOt"
      }
    },
    {
      "cell_type": "code",
      "source": [
        "seuNome = str(input(\"Digite seu nome: \"))\n",
        "\n",
        "print(\"Bem vindo ao ZOMBIE DIARY\",seuNome,' Você está na fase 1!!')\n",
        "\n",
        "print(\"Você está em um laboratório e a primeira coisa que vê são 3 itens:\")\n",
        "\n",
        "print(\"uma espada, um fuzil, e um arco, qual deseja pegar?\")\n",
        "\n",
        "arma = str(input(\"Digite 1 para espada, 2 para fuzil e 3 para arco.\"))\n",
        "\n",
        "if (arma == \"1\"):\n",
        "  print(\"Você se tornou um guerreiro! E apareceu um zombie na sua frente\")\n",
        "  print(\"O que deseja fazer ? Digite 1 para fugir, 2 para mudar de arma ou 3 para atacar!\")\n",
        "\n",
        "elif (arma ==\"2\"):\n",
        "  print(\"Você se tornou um fuzileiro! E apareceu um zombie na sua frente\")\n",
        "  print(\"O que deseja fazer ? Digite 1 para fugir, 2 para mudar de arma ou 3 para atacar!\")\n",
        "  \n",
        "elif (arma == \"3\"):\n",
        "  print(\"Você se tornou um arqueiro! e apareceu um zombie na sua frente\")  \n",
        "  print(\"O que deseja fazer ? Digite 1 para fugir, 2 para mudar de arma ou 3 para atacar!\")  \n",
        "  acao = str(input(\"Digite aqui a sua ação:\"))\n",
        "  if(acao == \"1\"):\n",
        "    print(\"Você atacou o zombie mas ele tinha amigos e lhe matou.\")\n",
        "  if (acao == \"2\"):\n",
        "    print(\"Você não conseguiu fugir e infelizmente o zombie pegou você.\") \n",
        "  if (acao == \"3\"):\n",
        "    print(\"Você conseguiu matar os zombie, você ganhou 100 moedas!\")\n",
        "  fase2 = str(input(\"Digite aqui 1 para sair do jogo ou 2 para proxima fase \"))\n",
        "  if (fase2 == \"1\"):\n",
        "    print(\"Sair do jogo!\")\n",
        "  if (fase2 == \"2\"):\n",
        "    print(\"Proxima fase!\")\n",
        "  fase2 = str(input(\"Digite 1 para menu ou 2 para começar a fase 2! \"))\n",
        "  if (fase2 == \"1\"):\n",
        "    print(\"menu\")\n",
        "  if (fase2 == \"2\"):\n",
        "    print(\"Começar a fase 2\")\n",
        "    print(\"Bem vindo a fase 2!\")\n",
        "    print(\"Você está numa floresta cheia de zombies, no meio da floresta  aparece 3 itens de ajuda,\")\n",
        "    print(\"Uma bolsa de sangue, flechas e bombas qual você deseja pegar?\")\n",
        "  \n",
        "  itens = str(input(\"Digite 1 para bolsa de sangue, 2 para flechas ou 3 para bombas!\"))\n",
        "\n",
        "  if (itens == \"1\"):\n",
        "    print(\"Aumentou seu sangue\")\n",
        "\n",
        "  if (itens == \"2\"):\n",
        "    print(\"Mais munições\")\n",
        "\n",
        "  if (itens == \"3\"):\n",
        "    print(\"Você matou todos os zombies, você ganhou 200 moedas!\")\n",
        "    Ultimafasemestre = str(input(\"Digite 1 para sair do jogo ou 2 para ir para fase mestre!\"))\n",
        "\n",
        "  if (Ultimafasemestre == \"1\"):\n",
        "    print(\"Saiu do jogo\")\n",
        "\n",
        "  if (Ultimafasemestre == \"2\"):\n",
        "    print(\"Começar fase mestre!\")\n",
        "    print(\"Para ir para fase mestre você precisa de uma flecha mais letal com isso\")\n",
        "    print(\"compre uma flecha mais letal com suas moedas que você ganhou passando pela fase 1 e pela fase 2!\")\n",
        "    \n",
        "    print(\"Bem vindo a loja do zombie diary:\")\n",
        "\n",
        "loja = str(input(\"Digite 1 para sair da loja ou 2 para entrar na loja!\"))\n",
        "\n",
        "if (loja == \"1\"):\n",
        "  print(\"Saiu da loja!\")\n",
        "\n",
        "if (loja == \"2\"):\n",
        "  print(\"Entrou na loja!\")\n",
        "  print(\"Na loja tem 3 tipos de flechas letais:\")\n",
        "  print(\"Flecha olho de águia 300 moedas, flecha recurvo 200 moedas e flecha360 100 moedas\")\n",
        "\n",
        "flechas = str(input(\"Digite 1 para flecha recurvo, 2 para flecha360 ou 3 para flecha olho de águia.\"))\n",
        "\n",
        "if (flechas == \"1\"):\n",
        "  print(\"Você comprou a flecha recurvo\")\n",
        " \n",
        "if (flechas == \"2\"):\n",
        "  print(\"Você comprou a flecha360\")\n",
        "\n",
        "if (flechas == \"3\"):\n",
        "  print(\"Você comprou a flecha olho de águia\")\n",
        "  print(\"Bem vindo a fase mestre\")\n",
        "  print(\"Você está num lago com bastante sangue e bastante bombas e com a flecha\") \n",
        "  print(\"olho de águia, proximo ao lago se aproxima os zombies e seu mestre para você\")\n",
        "  print(\"conseguir acabar com os zombies e seu mestre e vencer o jogo você tem que\")\n",
        "  print(\"acerta uma flecha no olho esquerdo do mestre.\")\n",
        "  fasemestre = str(input(\"Digite 1 para atirar a flecha no olho direito do mestre, Digite 2 para jogar a bomba nos zombies ou Digite 3 para atirar a flecha no olho esquerdo do mestre e vencer o jogo!\"))\n",
        "if (fasemestre == \"1\"):\n",
        "  print(\"O mestre foi atingido mas não morreu.\")\n",
        "if (fasemestre == \"2\"):\n",
        "  print(\"Você matou a maioria dos zombies mas não atingiu o mestre que pena.\")\n",
        "if (fasemestre == \"3\"):\n",
        "  print(\"Você atirou a flecha no olho esquerdo do mestre e consigo acabar com ele e seus zombies assim vencendo o jogo!\")\n",
        "  print(\"PARABÉNS VENCEDOR!!\")\n",
        "\n",
        "\n",
        "\n",
        "\n",
        "\n",
        "\n",
        "\n",
        "\n",
        "\n",
        "\n",
        "\n",
        "\n",
        "\n",
        "          \n",
        "\n",
        "\n",
        "\n",
        "\n",
        "\n"
      ],
      "metadata": {
        "colab": {
          "base_uri": "https://localhost:8080/"
        },
        "id": "HJhA6t5P2TmQ",
        "outputId": "1ad5c0b5-7111-4b1b-a6fe-e8c0f1048461"
      },
      "execution_count": 26,
      "outputs": [
        {
          "output_type": "stream",
          "name": "stdout",
          "text": [
            "Digite seu nome: Inaldo\n",
            "Bem vindo ao ZOMBIE DIARY Inaldo  Você está na fase 1!!\n",
            "Você está em um laboratório e a primeira coisa que vê são 3 itens:\n",
            "uma espada, um fuzil, e um arco, qual deseja pegar?\n",
            "Digite 1 para espada, 2 para fuzil e 3 para arco.3\n",
            "Você se tornou um arqueiro! e apareceu um zombie na sua frente\n",
            "O que deseja fazer ? Digite 1 para fugir, 2 para mudar de arma ou 3 para atacar!\n",
            "Digite aqui a sua ação:3\n",
            "Você conseguiu matar os zombie, você ganhou 100 moedas!\n",
            "Digite aqui 1 para sair do jogo ou 2 para proxima fase 2\n",
            "Proxima fase!\n",
            "Digite 1 para menu ou 2 para começar a fase 2! 2\n",
            "Começar a fase 2\n",
            "Bem vindo a fase 2!\n",
            "Você está numa floresta cheia de zombies no meio da floresta  aparece 3 itens de ajuda,\n",
            "Uma bolsa de sangue, flechas e bombas qual você deseja pegar?\n",
            "Digite 1 para bolsa de sangue, 2 para flechas ou 3 para bombas!3\n",
            "Você matou todos os zombies, você ganhou 200 moedas!\n",
            "Digite 1 para sair do jogo ou 2 para ir para fase mestre!2\n",
            "Começar fase mestre!\n",
            "Para ir para fase mestre você precisa de uma flecha mais letal com isso\n",
            "compre uma flecha mais letal com suas moedas que você ganhou passando pela fase 1 e pela fase 2!\n",
            "Bem vindo a loja do zombie diary:\n",
            "Digite 1 para sair da loja ou 2 para entrar na loja!2\n",
            "Entrou na loja!\n",
            "Na loja tem 3 tipos de flechas letais:\n",
            "Flecha olho de águia 300 moedas, flecha recurvo 200 moedas e flecha360 100 moedas\n",
            "Digite 1 para flecha recurvo, 2 para flecha360 ou 3 para flecha olho de águia.3\n",
            "Você comprou a flecha olho de águia\n",
            "Bem vindo a fase mestre\n",
            "Você está num lago com bastante sangue e bastante bombas e com a flecha\n",
            "olho de águia, proximo ao lago se aproxima os zombies e seu mestre para você\n",
            "conseguir acabar com os zombies e seu mestre e vencer o jogo você tem que\n",
            "acerta uma flecha no olho esquerdo do mestre.\n",
            "Digite 1 para atirar a flecha no olho direito do mestre, Digite 2 para jogar a bomba nos zombies ou Digite 3 para atirar a flecha no olho esquerdo do mestre e vencer o jogo!3\n",
            "Você atirou a flecha no olho esquerdo do mestre e consigo acabar com ele e seus zombies assim vencendo o jogo!\n",
            "PARABÉNS VENCEDOR!!\n"
          ]
        }
      ]
    }
  ]
}