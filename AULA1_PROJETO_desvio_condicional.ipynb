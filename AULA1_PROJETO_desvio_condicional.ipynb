{
  "nbformat": 4,
  "nbformat_minor": 0,
  "metadata": {
    "colab": {
      "provenance": [],
      "authorship_tag": "ABX9TyMkS/65VIbXZxRnq1CMLKo/",
      "include_colab_link": true
    },
    "kernelspec": {
      "name": "python3",
      "display_name": "Python 3"
    },
    "language_info": {
      "name": "python"
    }
  },
  "cells": [
    {
      "cell_type": "markdown",
      "metadata": {
        "id": "view-in-github",
        "colab_type": "text"
      },
      "source": [
        "<a href=\"https://colab.research.google.com/github/mybala/EXERCICIOS/blob/main/AULA1_PROJETO_desvio_condicional.ipynb\" target=\"_parent\"><img src=\"https://colab.research.google.com/assets/colab-badge.svg\" alt=\"Open In Colab\"/></a>"
      ]
    },
    {
      "cell_type": "markdown",
      "source": [],
      "metadata": {
        "id": "DAJaN6ocn_mK"
      }
    },
    {
      "cell_type": "code",
      "source": [
        "print('Bem vindo ao sistema \"fuctura!\"')#saida de dados "
      ],
      "metadata": {
        "colab": {
          "base_uri": "https://localhost:8080/"
        },
        "id": "MyOur9YfoCbn",
        "outputId": "acff2e24-5941-4faa-ae98-6b55903cff5e"
      },
      "execution_count": null,
      "outputs": [
        {
          "output_type": "stream",
          "name": "stdout",
          "text": [
            "Bem vindo ao sistema \"fuctura!\"\n"
          ]
        }
      ]
    },
    {
      "cell_type": "markdown",
      "source": [
        "Variável é um mecanismo de armazenamento de informações e só pode armazenar uma informação por vez:"
      ],
      "metadata": {
        "id": "QUFVFrS8q7Se"
      }
    },
    {
      "cell_type": "code",
      "source": [
        "x = 1 #Varivael \n",
        "\n",
        "y = 1 #variavel\n",
        "\n",
        "print(x + y) # a soma das duas variaveis "
      ],
      "metadata": {
        "colab": {
          "base_uri": "https://localhost:8080/"
        },
        "id": "h02xZd8trORK",
        "outputId": "4ac4c143-5cca-4d7a-9881-ef21db2d435d"
      },
      "execution_count": null,
      "outputs": [
        {
          "output_type": "stream",
          "name": "stdout",
          "text": [
            "2\n"
          ]
        }
      ]
    },
    {
      "cell_type": "markdown",
      "source": [
        "A FUNÇÃO \"INPUT\" É UMA FUNÇÃO PARA PEGAR INFORMAÇÕES DO USUÁRIO:"
      ],
      "metadata": {
        "id": "1n_rFcSTtdXz"
      }
    },
    {
      "cell_type": "code",
      "source": [
        "X = input('Digite um valor aqui: ') #entrada de dados aqui você pega a informação do usuário\n",
        "\n",
        "y = input('Digite outro valor aqui: ') #entrada de dados aqui você pega a informação do usuário\n",
        "\n",
        "print('O valor que você digitou foi:',X, 'e',y) #saida de dados "
      ],
      "metadata": {
        "colab": {
          "base_uri": "https://localhost:8080/"
        },
        "id": "I6rEN9Wrtdu5",
        "outputId": "7e19df4b-4329-4d97-deda-2ced7107837f"
      },
      "execution_count": null,
      "outputs": [
        {
          "output_type": "stream",
          "name": "stdout",
          "text": [
            "Digite um valor aqui: 10\n",
            "Digite outro valor aqui: 20\n",
            "O valor que você digitou foi: 10 e 20\n"
          ]
        }
      ]
    },
    {
      "cell_type": "markdown",
      "source": [
        "LEMBRANDO QUE SE A GENTE QUISER DETERMINAR QUAL O TIPO DA INFORMÇÃO TEMOS QUE DECLARAR ELA QUANDO ESTÁ SOLICITANDO AO USUÁRIO OU NO PROCESSAMENTO:"
      ],
      "metadata": {
        "id": "Pw2e_QDtvXTx"
      }
    },
    {
      "cell_type": "code",
      "source": [
        "X = int(input('Digite um valor aqui: '))\n",
        "\n",
        "y = float(input('Digite outro valor aqui: '))\n",
        "\n",
        "print('O valor que você digitou foi: ',X, type(X), 'e', y, type(y) ) # saida de dados informando a class "
      ],
      "metadata": {
        "colab": {
          "base_uri": "https://localhost:8080/"
        },
        "id": "BSNJ9KLOvpQg",
        "outputId": "ee565ae9-f266-4115-d74c-93ad55b46fff"
      },
      "execution_count": null,
      "outputs": [
        {
          "output_type": "stream",
          "name": "stdout",
          "text": [
            "Digite um valor aqui: 10\n",
            "Digite outro valor aqui: 20\n",
            "O valor que você digitou foi:  10 <class 'int'> e 20.0 <class 'float'>\n"
          ]
        }
      ]
    },
    {
      "cell_type": "markdown",
      "source": [
        "PODEMOS TAMBÉM SEMPRE COMENTAR OS CÓDIGOS:"
      ],
      "metadata": {
        "id": "LPmnNA2sx-8W"
      }
    },
    {
      "cell_type": "code",
      "source": [
        "# ISSO AQUI É UM COMENTÁRIO\n",
        "\n",
        "'''\n",
        "isso aqui é comentário \n",
        "\n",
        "'''\n",
        "print(\"Aqui vai funcionar de boa!!\")\n",
        "\n",
        "#Comentário vom (#) serve para comentar apenas uma linha\n",
        "\n",
        "''' comentário com 3 aspas serve para comentar mais de uma linha '''"
      ],
      "metadata": {
        "colab": {
          "base_uri": "https://localhost:8080/",
          "height": 53
        },
        "id": "QSaCtxC_x_M6",
        "outputId": "fdcaa3c5-8b15-4549-b87f-0e8fda850a7a"
      },
      "execution_count": null,
      "outputs": [
        {
          "output_type": "stream",
          "name": "stdout",
          "text": [
            "Aqui vai funcionar de boa!!\n"
          ]
        },
        {
          "output_type": "execute_result",
          "data": {
            "text/plain": [
              "' comentário com 3 aspas serve para comentar mais de uma linha '"
            ],
            "application/vnd.google.colaboratory.intrinsic+json": {
              "type": "string"
            }
          },
          "metadata": {},
          "execution_count": 20
        }
      ]
    },
    {
      "cell_type": "markdown",
      "source": [
        "ABSTRAIR O PROBLEMA É IMPORTANTE PARA PODER ENTENDER O PASSO A PASSO DO QUE SE DEVE FAZER PARA CRIAR UMA SOLUÇÃO!!"
      ],
      "metadata": {
        "id": "P-uoX_pDzWau"
      }
    },
    {
      "cell_type": "code",
      "source": [
        "entrada = 'Dados necessários para alimentar um programa'\n",
        "processamento = 'Cálculo ou lógica utilizando a entrada'\n",
        "saida = 'resultado das operações feitas'\n",
        "\n",
        "print('entrada: ',entrada)\n",
        "print('processamento:',processamento)\n",
        "print('saida:',saida)"
      ],
      "metadata": {
        "id": "SaED7c4WzWnO",
        "colab": {
          "base_uri": "https://localhost:8080/"
        },
        "outputId": "4d9f24cb-011b-4617-f986-39f5e79a3979"
      },
      "execution_count": null,
      "outputs": [
        {
          "output_type": "stream",
          "name": "stdout",
          "text": [
            "entrada:  Dados necessários para alimentar um programa\n",
            "processamento: Cálculo ou lógica utilizando a entrada\n",
            "saida: resultado das operações feitas\n"
          ]
        }
      ]
    },
    {
      "cell_type": "markdown",
      "source": [
        "AGORA VAMOS CRIAR NOSSA PRIMEIRA SOLUÇÃO!!!\n",
        "\n",
        "Iremos criar um sistema que calcule o salário bruto de uma pessoa com base nas informações informadas pelo usuário:"
      ],
      "metadata": {
        "id": "S4mkI0Zaz_YB"
      }
    },
    {
      "cell_type": "code",
      "source": [
        "# Entrada de dados\n",
        "\n",
        "salarioBase = float(input('Digite aqui seu salário base: '))\n",
        "gratificacao = float(input('Digite aqui sua gratificação' ))\n",
        "\n",
        "# Processamento \n",
        "\n",
        "salarioBruto = salarioBase + gratificacao\n",
        "\n",
        "#Saida \n",
        "\n",
        "print('O seu salário bruto é: R$',salarioBruto)"
      ],
      "metadata": {
        "id": "0agN1g_Dz_pH"
      },
      "execution_count": null,
      "outputs": []
    },
    {
      "cell_type": "markdown",
      "source": [
        "OPERAÇÕES RELACIONAIS: "
      ],
      "metadata": {
        "id": "58stDy5U38OA"
      }
    },
    {
      "cell_type": "code",
      "source": [
        "valor1 = 10\n",
        "\n",
        "valor2 = 20\n",
        "\n",
        "#condição comparativa\n",
        "print(valor1 == valor2)\n",
        "print(valor1 != valor2)\n",
        "print(valor1 >  valor2)\n",
        "print(valor1 <  valor2)\n",
        "print(valor1 >= valor2)\n",
        "print(valor1 <= valor2)"
      ],
      "metadata": {
        "id": "5V8QoowR38pF"
      },
      "execution_count": null,
      "outputs": []
    },
    {
      "cell_type": "markdown",
      "source": [
        "**PROJETO 1: CRIAR UM SISTEMA QUE VALIDE UM CUMPO:**"
      ],
      "metadata": {
        "id": "f1uQgFME7teA"
      }
    },
    {
      "cell_type": "code",
      "source": [
        "#Entrada:\n",
        "\n",
        "cupom = str(input('Digite aqui o seu cupom: '))\n",
        "\n",
        "#Processamento: \n",
        "\n",
        "#SE\n",
        "if(cupom == \"FUCTURA1\" or cupom == \"FUCTURA2\"):\n",
        "  # Saída:\n",
        "  print(\"Você ganhou 15% de desconto\")"
      ],
      "metadata": {
        "colab": {
          "base_uri": "https://localhost:8080/"
        },
        "id": "NnB3hwQp7try",
        "outputId": "7c4e8dca-a1b1-430c-a336-64e9b6a354e3"
      },
      "execution_count": null,
      "outputs": [
        {
          "output_type": "stream",
          "name": "stdout",
          "text": [
            "Digite aqui o seu cupom: FUCTURA1\n",
            "Você ganhou 15% de desconto\n"
          ]
        }
      ]
    },
    {
      "cell_type": "markdown",
      "source": [
        "**PROJETO 2: CRIAR UM SISTEMA QUE VALIDE UM CUPOM E SE O CUPOM NÃO FOR VALIDO INFORMA AO USUÁRIO:**"
      ],
      "metadata": {
        "id": "IfNRLuqG4a-y"
      }
    },
    {
      "cell_type": "code",
      "source": [
        "#ENTRADA\n",
        "cupom = str(input('Digite aqui o seu cupom: '))\n",
        "\n",
        "#processamento:\n",
        "  \n",
        "if(cupom == \"FUCTURA1\" or cupom == \"FUCTURA2\"):\n",
        "  #SAIDA\n",
        "  print(\"você ganhou 15% de desconto!\") \n",
        "else:\n",
        "  #SAIDA\n",
        "  print(\"Esse cupom não é válido!\")   "
      ],
      "metadata": {
        "id": "QXtnBPuz4d4i"
      },
      "execution_count": null,
      "outputs": []
    },
    {
      "cell_type": "markdown",
      "source": [
        "**PROJETO 3: CRIAR UM SISTEMA QUE VALIDE UM CUPOM DE 15% E DE 10% E SE O CUPOM NÃO FOR VALIDO INFORMAR AO USUARIO:**"
      ],
      "metadata": {
        "id": "Q0c_p7Xi1kP0"
      }
    },
    {
      "cell_type": "code",
      "source": [
        "#ENTRADA\n",
        "\n",
        "cupom = str(input('Digite aqui o seu cupom: '))\n",
        "\n",
        "#processamento:\n",
        "  \n",
        "if (cupom == \"FUCTURA1\"):\n",
        "  print(\"você ganhou 15% de desconto!\") \n",
        "elif (cupom == \"FUCTURA2\"):\n",
        "  print(\"você ganhou 10% de desconto!\")\n",
        "else:\n",
        "  print(\"Esse cupom não é válido!\")       "
      ],
      "metadata": {
        "id": "G-zotOad_F4x",
        "colab": {
          "base_uri": "https://localhost:8080/"
        },
        "outputId": "32681eca-be1c-425d-c3ce-c3d8d4925ccb"
      },
      "execution_count": null,
      "outputs": [
        {
          "output_type": "stream",
          "name": "stdout",
          "text": [
            "Digite aqui o seu cupom: FUCTURA4\n",
            "Esse cupom não é válido!\n"
          ]
        }
      ]
    },
    {
      "cell_type": "markdown",
      "source": [
        "**PROJETO 4:  CRIAR UM SISTEMA DE EMPRESTIMO QUE 'SE' O VALOR DO EMPRESTIMO FOR MENOR OU IGUAL A 50% DO SEU SALARIO, ENTÃO O EMPRESTIMO SERÁ APROVADO, 'SENÃO', 'SE' O VALOR DO EMPRESTIMO FOR MENOR OU IGUAL A 75% DO SALARIO A SITUAÇÃO FICARÁ EM ANÁLISE, 'SENÃO', INFORME AO CLIENTE QUE O EMPRESTIMO NÃO FOI APROVADO.**\n",
        "\n",
        "**AÇÕES**\n",
        "**1- APROVAR O EMPRESTIMO 2- SITUAÇÃO EM ANÁLISE 3- NÃO APROVAR O EMPRESTIMO**"
      ],
      "metadata": {
        "id": "-V91bpj5_pbI"
      }
    },
    {
      "cell_type": "code",
      "source": [
        "#ENTRADA:\n",
        "salario = float(input('Digite aqui o seu salário: '))\n",
        "emprestimo = float(input('Digite o valor do seu emprestimo: '))\n",
        "\n",
        "#Processamento:\n",
        "\n",
        "if (emprestimo <= salario * 0.5):\n",
        "  print(\"O emprestimo foi aprovado!\")\n",
        "\n",
        "elif (emprestimo <= salario * 0.75): \n",
        "  print('O emprestimo está em analise!')\n",
        "else:\n",
        "  print('O emprestimo não está aprovado.')  \n"
      ],
      "metadata": {
        "colab": {
          "base_uri": "https://localhost:8080/"
        },
        "id": "_9hZx4qG_ptk",
        "outputId": "39d6ee59-9668-413c-fa06-c2a4f821c399"
      },
      "execution_count": null,
      "outputs": [
        {
          "output_type": "stream",
          "name": "stdout",
          "text": [
            "Digite aqui o seu salário: 3\n",
            "Digite o valor do seu emprestimo: 1\n",
            "O emprestimo foi aprovado!\n"
          ]
        }
      ]
    },
    {
      "cell_type": "markdown",
      "source": [
        "PROJETO 5 - CRIAR UM RPG!"
      ],
      "metadata": {
        "id": "gBQVA9_d2TOt"
      }
    },
    {
      "cell_type": "code",
      "source": [
        "seuNome = str(input(\"Digite seu nome: \"))\n",
        "\n",
        "print(\"Bem vindo ao ZOMBIE DIARY\",seuNome,' Você está na fase 1!!')\n",
        "\n",
        "print(\"Você está em um laboratório e a primeira coisa que vê são 3 itens:\")\n",
        "\n",
        "print(\"uma espada, um fuzil, e um arco, qual deseja pegar?\")\n",
        "\n",
        "arma = str(input(\"Digite 1 para espada, 2 para fuzil e 3 para arco.\"))\n",
        "\n",
        "if (arma == \"1\"):\n",
        "  print(\"Você se tornou um guerreiro! E apareceu um zombie na sua frente\")\n",
        "  print(\"O que deseja fazer ? Digite 1 para fugir, 2 para mudar de arma ou 3 para atacar!\")\n",
        "\n",
        "elif (arma ==\"2\"):\n",
        "  print(\"Você se tornou um fuzileiro! E apareceu um zombie na sua frente\")\n",
        "  print(\"O que deseja fazer ? Digite 1 para fugir, 2 para mudar de arma ou 3 para atacar!\")\n",
        "  \n",
        "elif (arma == \"3\"):\n",
        "  print(\"Você se tornou um arqueiro! e apareceu um zombie na sua frente\")  \n",
        "  print(\"O que deseja fazer ? Digite 1 para fugir, 2 para mudar de arma ou 3 para atacar!\")  \n",
        "  acao = str(input(\"Digite aqui a sua ação:\"))\n",
        "  if(acao == \"1\"):\n",
        "    print(\"Você atacou o zombie mas ele tinha amigos e lhe matou.\")\n",
        "  elif (acao == \"2\"):\n",
        "    print(\"Você não conseguiu fugir e infelizmente o zombie pegou você.\") \n",
        "  elif (acao == \"3\"):\n",
        "    print(\"Você conseguiu matar os zombie, você ganhou 100 moedas!\")\n",
        "  fase2 = str(input(\"Digite aqui 1 para sair do jogo ou 2 para proxima fase \"))\n",
        "  if (fase2 == \"1\"):\n",
        "    print(\"Sair do jogo!\")\n",
        "  elif (fase2 == \"2\"):\n",
        "    print(\"Proxima fase!\")\n",
        "  fase2 = str(input(\"Digite 1 para menu ou 2 para começar a fase 2! \"))\n",
        "  if(fase2 == \"1\"):\n",
        "    print(\"menu\") \n",
        "  elif(fase2 == \"2\"):\n",
        "    print(\"Começar a fase 2\")\n",
        "    print(\"Bem vindo a fase 2!\")\n",
        "    print(\"Você está numa floresta cheia de zombies, no meio da floresta  aparece 3 itens de ajuda,\")\n",
        "    print(\"Uma bolsa de sangue, flechas e bombas qual você deseja pegar?\")\n",
        "  \n",
        "  itens = str(input(\"Digite 1 para bolsa de sangue, 2 para flechas ou 3 para bombas!\"))\n",
        "\n",
        "  if (itens == \"1\"):\n",
        "    print(\"Aumentou seu sangue\")\n",
        "\n",
        "  elif (itens == \"2\"):\n",
        "    print(\"Mais munições\")\n",
        "\n",
        "  elif (itens == \"3\"):\n",
        "    print(\"Você matou todos os zombies, você ganhou 200 moedas!\")\n",
        "    Ultimafasemestre = str(input(\"Digite 1 para sair do jogo ou 2 para ir para fase mestre!\"))\n",
        "\n",
        "  elif (Ultimafasemestre == \"1\"):\n",
        "    print(\"Saiu do jogo\")\n",
        "\n",
        "  else:\n",
        "    (Ultimafasemestre == \"2\")\n",
        "    print(\"Começar fase mestre!\")\n",
        "    print(\"Para ir para fase mestre você precisa de uma flecha mais letal com isso\")\n",
        "    print(\"compre uma flecha mais letal com suas moedas que você ganhou passando pela fase 1 e pela fase 2!\")\n",
        "    \n",
        "    print(\"Bem vindo a loja do zombie diary:\")\n",
        "\n",
        "loja = str(input(\"Digite 1 para sair da loja ou 2 para entrar na loja!\"))\n",
        "\n",
        "if (loja == \"1\"):\n",
        "  print(\"Saiu da loja!\")\n",
        "\n",
        "if (loja == \"2\"):\n",
        "  print(\"Entrou na loja!\")\n",
        "  print(\"Na loja tem 3 tipos de flechas letais:\")\n",
        "  print(\"Flecha olho de águia 300 moedas, flecha recurvo 200 moedas e flecha360 100 moedas\")\n",
        "\n",
        "flechas = str(input(\"Digite 1 para flecha recurvo, 2 para flecha360 ou 3 para flecha olho de águia.\"))\n",
        "\n",
        "if (flechas == \"1\"):\n",
        "  print(\"Você comprou a flecha recurvo\")\n",
        " \n",
        "if (flechas == \"2\"):\n",
        "  print(\"Você comprou a flecha360\")\n",
        "\n",
        "if (flechas == \"3\"):\n",
        "  print(\"Você comprou a flecha olho de águia\")\n",
        "  print(\"Bem vindo a fase mestre\")\n",
        "  print(\"Você está num lago com bastante sangue e bastante bombas e com a flecha\") \n",
        "  print(\"olho de águia, proximo ao lago se aproxima os zombies e seu mestre para você\")\n",
        "  print(\"conseguir acabar com os zombies e seu mestre e vencer o jogo você tem que\")\n",
        "  print(\"acerta uma flecha no olho esquerdo do mestre.\")\n",
        "  fasemestre = str(input(\"Digite 1 para atirar a flecha no olho direito do mestre, Digite 2 para jogar a bomba nos zombies ou Digite 3 para atirar a flecha no olho esquerdo do mestre e vencer o jogo!\"))\n",
        "if (fasemestre == \"1\"):\n",
        "  print(\"O mestre foi atingido mas não morreu.\")\n",
        "if (fasemestre == \"2\"):\n",
        "  print(\"Você matou a maioria dos zombies mas não atingiu o mestre que pena.\")\n",
        "if (fasemestre == \"3\"):\n",
        "  print(\"Você atirou a flecha no olho esquerdo do mestre e consiguiu acabar com ele e seus zombies assim vencendo o jogo!\")\n",
        "  print(\"PARABÉNS VENCEDOR!!\")\n",
        "\n",
        "\n",
        "\n",
        "\n",
        "\n",
        "\n",
        "\n",
        "\n",
        "\n",
        "\n",
        "\n",
        "\n",
        "\n",
        "          \n",
        "\n",
        "\n",
        "\n",
        "\n",
        "\n"
      ],
      "metadata": {
        "colab": {
          "base_uri": "https://localhost:8080/"
        },
        "id": "HJhA6t5P2TmQ",
        "outputId": "aeb69551-d9ed-40cc-ca4a-19074af71bfe"
      },
      "execution_count": null,
      "outputs": [
        {
          "output_type": "stream",
          "name": "stdout",
          "text": [
            "Digite seu nome: Miguel\n",
            "Bem vindo ao ZOMBIE DIARY Miguel  Você está na fase 1!!\n",
            "Você está em um laboratório e a primeira coisa que vê são 3 itens:\n",
            "uma espada, um fuzil, e um arco, qual deseja pegar?\n",
            "Digite 1 para espada, 2 para fuzil e 3 para arco.3\n",
            "Você se tornou um arqueiro! e apareceu um zombie na sua frente\n",
            "O que deseja fazer ? Digite 1 para fugir, 2 para mudar de arma ou 3 para atacar!\n",
            "Digite aqui a sua ação:3\n",
            "Você conseguiu matar os zombie, você ganhou 100 moedas!\n",
            "Digite aqui 1 para sair do jogo ou 2 para proxima fase 2\n",
            "Proxima fase!\n",
            "Digite 1 para menu ou 2 para começar a fase 2! 2\n",
            "Começar a fase 2\n",
            "Bem vindo a fase 2!\n",
            "Você está numa floresta cheia de zombies, no meio da floresta  aparece 3 itens de ajuda,\n",
            "Uma bolsa de sangue, flechas e bombas qual você deseja pegar?\n",
            "Digite 1 para bolsa de sangue, 2 para flechas ou 3 para bombas!3\n",
            "Você matou todos os zombies, você ganhou 200 moedas!\n",
            "Digite 1 para sair do jogo ou 2 para ir para fase mestre!2\n",
            "Digite 1 para sair da loja ou 2 para entrar na loja!2\n",
            "Entrou na loja!\n",
            "Na loja tem 3 tipos de flechas letais:\n",
            "Flecha olho de águia 300 moedas, flecha recurvo 200 moedas e flecha360 100 moedas\n",
            "Digite 1 para flecha recurvo, 2 para flecha360 ou 3 para flecha olho de águia.3\n",
            "Você comprou a flecha olho de águia\n",
            "Bem vindo a fase mestre\n",
            "Você está num lago com bastante sangue e bastante bombas e com a flecha\n",
            "olho de águia, proximo ao lago se aproxima os zombies e seu mestre para você\n",
            "conseguir acabar com os zombies e seu mestre e vencer o jogo você tem que\n",
            "acerta uma flecha no olho esquerdo do mestre.\n",
            "Digite 1 para atirar a flecha no olho direito do mestre, Digite 2 para jogar a bomba nos zombies ou Digite 3 para atirar a flecha no olho esquerdo do mestre e vencer o jogo!3\n",
            "Você atirou a flecha no olho esquerdo do mestre e consiguiu acabar com ele e seus zombies assim vencendo o jogo!\n",
            "PARABÉNS VENCEDOR!!\n"
          ]
        }
      ]
    },
    {
      "cell_type": "markdown",
      "source": [
        "**LISTA:**"
      ],
      "metadata": {
        "id": "gvLPkrYS-BkM"
      }
    },
    {
      "cell_type": "code",
      "source": [
        "#Declarando uma lista vazia em python\n",
        "\n",
        "lista1 = []\n",
        "print(lista1)\n",
        "\n",
        "#Declaração explícita de lista\n",
        "\n",
        "lista2 = list((1,\"2\",3))\n",
        "print(lista2)\n",
        "\n",
        "#Declaração implícida\n",
        "\n",
        "lista3 = [\"C\", 4.65, True, \"True\", \"Vamos aprender\", [\"outra\", \"lista\", \"interna\"], lista2]\n",
        "print(lista3)\n",
        "\n",
        "lista4 = [\"primeiro\", \"segundo\", \"terceiro\"]\n",
        "print(lista4)\n",
        "\n",
        "#acessando um elemento da lista\n",
        "\n",
        "print(lista3)\n",
        "print(lista3[5][1]) #ACESSANDO A LISTA DENTRO DA LISTA\n",
        "\n",
        "#FATIANDO LISTA\n",
        "#NOME DA LISTA [START:STOP:STEP]\n",
        "print(lista3)\n",
        "print(lista3[2:6:2])\n",
        "print(lista3[:3])\n",
        "print(lista3[1:])\n",
        "print(\"imprimindo de dois em dois: \", lista3[::2])\n",
        "print(lista3[::])\n",
        "print(lista3 [-1])\n",
        "print(len(lista3[5][2]))\n",
        "\n",
        "print(lista1)\n",
        "\n",
        "#Adicionando elementos em uma lista \n",
        "\n",
        "a = []\n",
        "a.append(\"Php\")\n",
        "a.append(\"msn\")\n",
        "a.append(\"html\")\n",
        "a.append(\"Java\")\n",
        "\n",
        "print(lista1)\n",
        "\n",
        "#INSERIR ELEMENTOS EM UMA POSIÇÃO ESPECÍFICA\n",
        "lista1.insert(2, \"C++\")\n",
        "print(lista1)\n",
        "\n",
        "#remover um elemento pelo seu valor\n",
        "a.remove(\"html\")\n",
        "print(lista1)\n",
        "\n",
        "\n",
        "#INDEXAÇÃO (PEGAR UM ÍNDICE DE UM ELEMENTO PELO VALOR)\n",
        "indice = a.index(\"msn\")\n",
        "print(indice)\n",
        "\n",
        "#Remover um elemento pelo índice\n",
        "#Função del tira o ponto da lista\n",
        "del(lista3[3])      #Remover um elemento pelo índice\n",
        "print(indice)\n",
        "\n",
        "print(\"lista original: \", lista4)\n",
        "\n",
        "#Invertendo uma lista\n",
        "lista4.reverse()\n",
        "print(\"lista invertida: \",lista4)\n",
        "\n",
        "#ORDENANDO UMA LISTA\n",
        "lista4.sort()\n",
        "print(\"lista ordenda: \",lista4)\n",
        "\n",
        "#comprimentos de uma lista\n",
        "print(lista1, len(lista1), \"elementos\")\n",
        "print(lista2, len(lista2), \"elementos\")\n",
        "print(lista3, len(lista3), \"elementos\")\n",
        "print(lista4, len(lista4), \"elementos\")\n",
        "\n",
        "#Será que é assim que cópia uma lista?\n",
        "\n",
        "L = [6,7,5,8,9]\n",
        "V = L\n",
        "print(V)\n",
        "print(L)\n",
        "\n",
        "#Testando se de fato é uma cópia\n",
        "#V = [0]=-100 deu erro\n",
        "#print(V)\n",
        "#print(L)\n",
        "\n",
        "#Forma certa de cópia uma lista\n",
        "\n",
        "L=[6,7,5,8,9]\n",
        "V=L[:]\n",
        "Z = list(L)\n",
        "print(L, V, Z)\n",
        "\n",
        "V[0]=-100\n",
        "Z[0]=-8\n",
        "print(L,V,Z)\n",
        "\n"
      ],
      "metadata": {
        "id": "AKUICgwV-HD3",
        "colab": {
          "base_uri": "https://localhost:8080/"
        },
        "outputId": "6697c543-cd6b-4fd9-9116-777f3b08c0e0"
      },
      "execution_count": null,
      "outputs": [
        {
          "output_type": "stream",
          "name": "stdout",
          "text": [
            "[]\n",
            "[1, '2', 3]\n",
            "['C', 4.65, True, 'True', 'Vamos aprender', ['outra', 'lista', 'interna'], [1, '2', 3]]\n",
            "['primeiro', 'segundo', 'terceiro']\n",
            "['C', 4.65, True, 'True', 'Vamos aprender', ['outra', 'lista', 'interna'], [1, '2', 3]]\n",
            "lista\n",
            "['C', 4.65, True, 'True', 'Vamos aprender', ['outra', 'lista', 'interna'], [1, '2', 3]]\n",
            "[True, 'Vamos aprender']\n",
            "['C', 4.65, True]\n",
            "[4.65, True, 'True', 'Vamos aprender', ['outra', 'lista', 'interna'], [1, '2', 3]]\n",
            "imprimindo de dois em dois:  ['C', True, 'Vamos aprender', [1, '2', 3]]\n",
            "['C', 4.65, True, 'True', 'Vamos aprender', ['outra', 'lista', 'interna'], [1, '2', 3]]\n",
            "[1, '2', 3]\n",
            "7\n",
            "[]\n",
            "[]\n",
            "['C++']\n",
            "['C++']\n",
            "1\n",
            "1\n",
            "lista original:  ['primeiro', 'segundo', 'terceiro']\n",
            "lista invertida:  ['terceiro', 'segundo', 'primeiro']\n",
            "lista ordenda:  ['primeiro', 'segundo', 'terceiro']\n",
            "['C++'] 1 elementos\n",
            "[1, '2', 3] 3 elementos\n",
            "['C', 4.65, True, 'Vamos aprender', ['outra', 'lista', 'interna'], [1, '2', 3]] 6 elementos\n",
            "['primeiro', 'segundo', 'terceiro'] 3 elementos\n",
            "[6, 7, 5, 8, 9]\n",
            "[6, 7, 5, 8, 9]\n",
            "[6, 7, 5, 8, 9] [6, 7, 5, 8, 9] [6, 7, 5, 8, 9]\n",
            "[6, 7, 5, 8, 9] [-100, 7, 5, 8, 9] [-8, 7, 5, 8, 9]\n"
          ]
        }
      ]
    },
    {
      "cell_type": "markdown",
      "source": [
        "**TUPLAS**"
      ],
      "metadata": {
        "id": "2HrJxHdVMVl0"
      }
    },
    {
      "cell_type": "code",
      "source": [
        "#Declarando tlupas\n",
        "tupla1 = (30,30, \"outubro\", 1989)\n",
        "print(tupla1)\n",
        "\n",
        "tupla2 = 30, \"outubro\", 1989\n",
        "print(tupla2)\n",
        "\n",
        "tupla3 = 1,\n",
        "print(tupla3)\n",
        "\n",
        "#contando valores repetidos.\n",
        "tupla1.count(30)\n",
        "\n",
        "#acessando um elemento na tupla\n",
        "print(tupla1[1])\n",
        "print(len(tupla1))\n",
        "print(tupla1.index(\"outubro\"))\n",
        "\n",
        "\n"
      ],
      "metadata": {
        "colab": {
          "base_uri": "https://localhost:8080/"
        },
        "id": "ROxkUylB0l1F",
        "outputId": "fe671061-035a-42f7-b60a-581a422b781e"
      },
      "execution_count": null,
      "outputs": [
        {
          "output_type": "stream",
          "name": "stdout",
          "text": [
            "(30, 30, 'outubro', 1989)\n",
            "(30, 'outubro', 1989)\n",
            "(1,)\n",
            "30\n",
            "4\n",
            "2\n"
          ]
        }
      ]
    },
    {
      "cell_type": "markdown",
      "source": [
        "**Dicionários:**"
      ],
      "metadata": {
        "id": "HnY2eicg1Rdf"
      }
    },
    {
      "cell_type": "code",
      "source": [
        "#Declarando dicionários\n",
        "#a chave do dicionário só inteiros e strings\n",
        "#dicionário usa chaves {}\n",
        "\n",
        "mac = {}\n",
        "print(type(mac))     #chave #valor   chave     valor  chave   valor\n",
        "mac_pernambucano = {\"sport\": 41, \"santa cruz\": 29, \"nautico\": 25}\n",
        "print(mac_pernambucano)\n",
        "\n",
        "#adicionando um elemento no dicionário (chave: valor)\n",
        "mac_pernambucano[\"salgueiro\"] = 1\n",
        "print(mac_pernambucano)\n",
        "qnt_titulos = mac_pernambucano.get(\"santa cruz\")\n",
        "print(qnt_titulos)\n",
        "print(\"O sport tem\", qnt_titulos, \"titulos\")\n",
        " #remover o elemento com base na chave\n",
        "\n",
        "del mac_pernambucano[\"salgueiro\"]\n",
        "print(mac_pernambucano)\n",
        "\n",
        "#removendo a chave e retorna o seu valor\n",
        "#apagando só a chave mas salvando o valor na variavel \n",
        "\n",
        "valor = mac_pernambucano.pop(\"nautico\")\n",
        "print(\"O valor retornado da chave é: \", valor)\n",
        "print(mac_pernambucano)\n",
        "\n",
        "#Verificar uma chave existe no dicionário\n",
        "print(\"santa cruz in mac_pernambucano\")\n",
        "\n",
        "#pegar todas as chaves do dicionário\n",
        "print(mac_pernambucano.keys())\n",
        "champ_europa = {\"Real madrid\": 14, \"barcelona\": 5, \"chelsea\": 2}\n",
        "\n",
        "#removendo e retornando o ultimo elemento\n",
        "print(champ_europa.popitem())\n",
        "print(champ_europa)\n",
        "\n",
        "#Mesclar dois dicionários\n",
        "\n",
        "mac_pernambucano.update(champ_europa)\n",
        "print(mac_pernambucano)\n",
        "\n",
        "#convertendo um dicionário em uma lista\n",
        "print(list(mac_pernambucano))\n",
        "print(list(mac_pernambucano.values()))\n",
        "\n",
        "\n"
      ],
      "metadata": {
        "colab": {
          "base_uri": "https://localhost:8080/"
        },
        "id": "VFmfeLWY1Zaf",
        "outputId": "174d3c1e-d6e7-4857-ff0d-ae86bb7744d6"
      },
      "execution_count": null,
      "outputs": [
        {
          "output_type": "stream",
          "name": "stdout",
          "text": [
            "<class 'dict'>\n",
            "{'sport': 41, 'santa cruz': 29, 'nautico': 25}\n",
            "{'sport': 41, 'santa cruz': 29, 'nautico': 25, 'salgueiro': 1}\n",
            "29\n",
            "O sport tem 29 titulos\n",
            "{'sport': 41, 'santa cruz': 29, 'nautico': 25}\n",
            "O valor retornado da chave é:  25\n",
            "{'sport': 41, 'santa cruz': 29}\n",
            "santa cruz in mac_pernambucano\n",
            "dict_keys(['sport', 'santa cruz'])\n",
            "('chelsea', 2)\n",
            "{'Real madrid': 14, 'barcelona': 5}\n",
            "{'sport': 41, 'santa cruz': 29, 'Real madrid': 14, 'barcelona': 5}\n",
            "['sport', 'santa cruz', 'Real madrid', 'barcelona']\n",
            "[41, 29, 14, 5]\n"
          ]
        }
      ]
    },
    {
      "cell_type": "markdown",
      "source": [
        "**PROJETO 5- Crie um sistema que o usuário armazene 3 notas de aluno e no final é mostrado qual é a média que esse aluno teve e se ele alcançar a média 7 está aprovado caso o contrário está reprovado:**"
      ],
      "metadata": {
        "id": "3u22uS3p9aml"
      }
    },
    {
      "cell_type": "code",
      "source": [
        "#ENTRADA\n",
        "\n",
        "nota1 = float(input(\"Digite aqui a primeira nota: \"))\n",
        "nota2 = float(input(\"Digite aqui a segunda nota: \"))\n",
        "nota3 = float(input(\"Digite aqui a terceira nota: \"))\n",
        "\n",
        "#Processamento\n",
        "                         #sinal de divisão\n",
        "media =(nota1 + nota2 + nota3) / 3\n",
        "print(\"A media do aluno é: \", media)\n",
        "\n",
        "#saida\n",
        "     #Maior ou igual\n",
        "if (media >= 7):\n",
        "  print(\"O aluno está aprovado!\")\n",
        "else:\n",
        "  print(\"O aluno está reprovado!\")\n",
        "  \n",
        "\n",
        "\n",
        "\n"
      ],
      "metadata": {
        "colab": {
          "base_uri": "https://localhost:8080/"
        },
        "id": "a0lzQ_Ls9cdA",
        "outputId": "2614115a-c912-44d8-a0ff-4f2b1424953b"
      },
      "execution_count": null,
      "outputs": [
        {
          "output_type": "stream",
          "name": "stdout",
          "text": [
            "Digite aqui a primeira nota: 8\n",
            "Digite aqui a segunda nota: 5\n",
            "Digite aqui a terceira nota: 10\n",
            "A media do aluno é:  7.666666666666667\n",
            "O aluno está aprovado!\n"
          ]
        }
      ]
    },
    {
      "cell_type": "markdown",
      "source": [
        "**PROJETO 6- Crie um sistema que o usuário armazene 3 notas de um aluno e no final é mostrado qual é a média que esse aluno teve e se ele alcançar a média 7 está aprovado caso o contrário está reprovado, utilizando listas: **"
      ],
      "metadata": {
        "id": "w4Xty6LVcDfz"
      }
    },
    {
      "cell_type": "code",
      "source": [
        "#ENTRADA\n",
        "\n",
        "lista_notas = []\n",
        "nota1 = float(input(\"Digite aqui a primeira nota: \"))\n",
        "nota2 = float(input(\"Digite aqui a segunda nota: \"))\n",
        "nota3 = float(input(\"Digite aqui a terceira nota: \"))\n",
        "\n",
        "lista_notas.append(nota1)\n",
        "lista_notas.append(nota2)\n",
        "lista_notas.append(nota3)\n",
        "\n",
        "print(lista_notas)\n",
        "\n",
        "#processamento\n",
        "\n",
        "media = sum(lista_notas) / 3\n",
        "\n",
        "#saida\n",
        "\n",
        "if (media >= 7):\n",
        "  print(\"O aluno está aprovado! Parabéns!\")\n",
        "else:\n",
        "  print(\"O aluno está reprovado!\")"
      ],
      "metadata": {
        "colab": {
          "base_uri": "https://localhost:8080/"
        },
        "id": "W1LUz4emcEKa",
        "outputId": "a15aa54c-a8cc-4a26-92bc-2add001d4bf8"
      },
      "execution_count": null,
      "outputs": [
        {
          "output_type": "stream",
          "name": "stdout",
          "text": [
            "Digite aqui a primeira nota: 8\n",
            "Digite aqui a segunda nota: 9\n",
            "Digite aqui a terceira nota: 4\n",
            "[8.0, 9.0, 4.0]\n",
            "O aluno está aprovado! Parabéns!\n"
          ]
        }
      ]
    },
    {
      "cell_type": "markdown",
      "source": [
        "**PROJETO 7 - Crie um sistema que o usúario armazene 3 notasde um aluno e no final é mostrado qual é a média que esse aluno teve e se ele alcançar a média 7 está aprovado caso o contrário está reprovado, utilizando dicionários:  **"
      ],
      "metadata": {
        "id": "wblBaHUxisW-"
      }
    },
    {
      "cell_type": "code",
      "source": [
        "#ENTRADA \n",
        "\n",
        "cod_alunoD = {}\n",
        "banco_notas = {}\n",
        "lista_notas = []\n",
        "\n",
        "cod_aluno = input(\"Digite um código numérico para o aluno: \")\n",
        "nome_aluno = input(\"Digite o nome do aluno: \")\n",
        "nota1 = float(input(\"Digite a primeira nota do aluno: \"))\n",
        "nota2 = float(input(\"Digite a segunda nota do aluno: \"))\n",
        "nota3 = float(input(\"Digite a terceira nota do aluno: \"))\n",
        "\n",
        "lista_notas.append(nota1)\n",
        "lista_notas.append(nota2)\n",
        "lista_notas.append(nota3)\n",
        "\n",
        "cod_alunoD[cod_aluno] = nome_aluno\n",
        "banco_notas[cod_aluno] = lista_notas\n",
        "\n",
        "print(\"O aluno cadastrado foi {} e suas notas estão no sistema.\".format(nome_aluno))\n",
        "\n",
        "#Processamento:\n",
        "\n",
        "media = banco_notas.get(cod_aluno)\n",
        "media = sum(media)\n",
        "media = media / 3\n",
        "\n",
        "#saida\n",
        "\n",
        "print(\"A média do aluno {} é: {}.\".format(nome_aluno,media))\n",
        "if (media >= 7):\n",
        "  print(\"O aluno {} está aprovado!\".format(nome_aluno))\n",
        "else:\n",
        "  print(\"O aluno {} está reprovado!\".format(nome_aluno))\n",
        "\n"
      ],
      "metadata": {
        "colab": {
          "base_uri": "https://localhost:8080/"
        },
        "id": "OvFiYcW1stqC",
        "outputId": "fbdb6f60-9e66-41f5-a16c-309859489322"
      },
      "execution_count": null,
      "outputs": [
        {
          "output_type": "stream",
          "name": "stdout",
          "text": [
            "Digite um código numérico para o aluno: 050717\n",
            "Digite o nome do aluno: Miguel\n",
            "Digite a primeira nota do aluno: 9\n",
            "Digite a segunda nota do aluno: 10\n",
            "Digite a terceira nota do aluno: 6\n",
            "O aluno cadastrado foi Miguel e suas notas estão no sistema.\n",
            "A média do aluno Miguel é: 8.333333333333334.\n",
            "O aluno Miguel está aprovado!\n"
          ]
        }
      ]
    },
    {
      "cell_type": "markdown",
      "source": [
        "**PROJETO 8- Crie um menu com 5 opções que se repete com a escolha do usúario.  **"
      ],
      "metadata": {
        "id": "SSFNN88K56zg"
      }
    },
    {
      "cell_type": "code",
      "source": [
        "#ENTRADA\n",
        "while True:\n",
        " menu_list = [\"Alugar um carro\", \"Devolver o carro ?\"]\n",
        " for i, menu in enumerate(menu_list):\n",
        "   print(\"[{}]-{}\".format(i,menu))\n",
        "\n",
        " conf = input(\"Digite sua opção: \")\n",
        "\n",
        " if (conf == \"0\"):\n",
        "   print(\"Você quer alugar qual carro ?\")\n",
        " elif(conf == \"1\"):\n",
        "   print(\"Qual carro da lista você quer devolver ?\")\n",
        "\n",
        " print(\"=\"*8)\n",
        " print(\"Digite 0 - para continuar | 1 - para sair\")\n",
        "\n",
        " if float(input()) ==1:\n",
        "    break\n",
        "\n",
        "\n"
      ],
      "metadata": {
        "colab": {
          "base_uri": "https://localhost:8080/"
        },
        "id": "8188P2Ln6d0v",
        "outputId": "91a4d23a-b355-453d-c09a-3ede87bc5856"
      },
      "execution_count": 2,
      "outputs": [
        {
          "name": "stdout",
          "output_type": "stream",
          "text": [
            "[0]-Alugar um carro\n",
            "[1]-Devolver o carro ?\n",
            "Digite sua opção: 0\n",
            "Você quer alugar qual carro ?\n",
            "========\n",
            "Digite 0 - para continuar | 1 - para sair\n",
            "0\n",
            "[0]-Alugar um carro\n",
            "[1]-Devolver o carro ?\n",
            "Digite sua opção: 1\n",
            "Qual carro da lista você quer devolver ?\n",
            "========\n",
            "Digite 0 - para continuar | 1 - para sair\n",
            "1\n"
          ]
        }
      ]
    },
    {
      "cell_type": "markdown",
      "source": [
        "**PROJETO 9- CRIE UM MENU PARA OS PROJETOS ANTERIORES QUE USARAM PROCESSOS DE DESCISÕES. **"
      ],
      "metadata": {
        "id": "VLs1Lc2PitVS"
      }
    },
    {
      "cell_type": "code",
      "source": [
        "cod_alunoD = {}\n",
        "banco_notas = {}\n",
        "lista_notas = []\n",
        "banco_medias = {}\n",
        "\n",
        "while True:\n",
        "\n",
        "  print(\"0 - CADASTRAR ALUNO \\n1 - MOSTRA CADASTROS \\n2 - MOSTRA NOTA\")\n",
        "\n",
        "  conf = int(input(\"Digite sua opção: \"))\n",
        "\n",
        "  if (conf == 0): #cadastrar aluno\n",
        "     cod_aluno = int(input(\"Digite um código numérico para o aluno: \"))\n",
        "     nome_aluno = (input(\"Digite o nome do aluno: \"))\n",
        "     nota1 = float(input(\"Digite a primeira nota do aluno: \"))\n",
        "     nota2 = float(input(\"Digite a segunda nota do aluno: \"))\n",
        "     nota3 = float(input(\"Digite a terceira nota do aluno: \"))\n",
        "     media = (nota1 + nota2 + nota3) / 3\n",
        "     lista_notas.append(nota1)\n",
        "     lista_notas.append(nota2)\n",
        "     lista_notas.append(nota3)\n",
        "\n",
        "     cod_alunoD[cod_aluno] = nome_aluno\n",
        "     banco_notas[cod_aluno] = lista_notas\n",
        "     banco_medias[cod_aluno] = media\n",
        "     lista_notas = [] \n",
        "\n",
        "     print(f\"O aluno cadastrado foi {nome_aluno} e suas notas já estão no sistema.\")\n",
        "\n",
        "  elif (conf == 1): #MOSTRA CADASTRO\n",
        "       print(\"Lista de alunos cadastrados:\")\n",
        "       print(\"-----------------------------\")\n",
        "       print(cod_alunoD)\n",
        "  \n",
        "  elif (conf == 2): #MOSTRA NOTAS DE UM ALUNO\n",
        "       cod_aluno = int(input(\"Digite o cod de cadastro do aluno:\"))\n",
        "       nome_aluno = cod_alunoD.get(cod_aluno)\n",
        "       notas = banco_notas.get(cod_aluno)\n",
        "       media = banco_medias.get(cod_aluno)\n",
        "\n",
        "       print(\"As notas do aluno {} são: {}\".format(nome_aluno,notas))\n",
        "       print(\"E sua média é: {}\".format(media))\n",
        "\n",
        "  print(\"\")\n",
        "  print(\"=============\")\n",
        "  print(\"0 para CONTINUAR | 1 para SAIR\")\n",
        "  if int(input()) == 1:\n",
        "      break"
      ],
      "metadata": {
        "colab": {
          "base_uri": "https://localhost:8080/"
        },
        "id": "RCXxTxYQit9a",
        "outputId": "1e214a1c-09cc-488c-c169-39deccf023ee"
      },
      "execution_count": 1,
      "outputs": [
        {
          "name": "stdout",
          "output_type": "stream",
          "text": [
            "0 - CADASTRAR ALUNO \n",
            "1 - MOSTRA CADASTROS \n",
            "2 - MOSTRA NOTA\n",
            "Digite sua opção: 0\n",
            "Digite um código numérico para o aluno: 4532\n",
            "Digite o nome do aluno: camile\n",
            "Digite a primeira nota do aluno: 6\n",
            "Digite a segunda nota do aluno: 7\n",
            "Digite a terceira nota do aluno: 8\n",
            "O aluno cadastrado foi camile e suas notas já estão no sistema.\n",
            "\n",
            "=============\n",
            "0 para CONTINUAR | 1 para SAIR\n",
            "0\n",
            "0 - CADASTRAR ALUNO \n",
            "1 - MOSTRA CADASTROS \n",
            "2 - MOSTRA NOTA\n",
            "Digite sua opção: 0\n",
            "Digite um código numérico para o aluno: 8765\n",
            "Digite o nome do aluno: eliete\n",
            "Digite a primeira nota do aluno: 9\n",
            "Digite a segunda nota do aluno: 10\n",
            "Digite a terceira nota do aluno: 8\n",
            "O aluno cadastrado foi eliete e suas notas já estão no sistema.\n",
            "\n",
            "=============\n",
            "0 para CONTINUAR | 1 para SAIR\n",
            "0\n",
            "0 - CADASTRAR ALUNO \n",
            "1 - MOSTRA CADASTROS \n",
            "2 - MOSTRA NOTA\n",
            "Digite sua opção: 1\n",
            "Lista de alunos cadastrados:\n",
            "-----------------------------\n",
            "{4532: 'camile', 8765: 'eliete'}\n",
            "\n",
            "=============\n",
            "0 para CONTINUAR | 1 para SAIR\n",
            "0\n",
            "0 - CADASTRAR ALUNO \n",
            "1 - MOSTRA CADASTROS \n",
            "2 - MOSTRA NOTA\n",
            "Digite sua opção: 2\n",
            "Digite o cod de cadastro do aluno:4532\n",
            "As notas do aluno camile são: [6.0, 7.0, 8.0]\n",
            "E sua média é: 7.0\n",
            "\n",
            "=============\n",
            "0 para CONTINUAR | 1 para SAIR\n",
            "1\n"
          ]
        }
      ]
    }
  ]
}